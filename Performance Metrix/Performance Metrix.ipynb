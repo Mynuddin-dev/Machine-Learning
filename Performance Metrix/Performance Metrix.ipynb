{
 "cells": [
  {
   "cell_type": "markdown",
   "metadata": {},
   "source": [
    "# Performance Metrix\n"
   ]
  },
  {
   "cell_type": "markdown",
   "metadata": {},
   "source": [
    "<h3>Regression</h3>\n",
    "<ul>\n",
    "    <ol>R-Squared value</ol>\n",
    "    <ol>Mean Absulate Error</ol>\n",
    "    <ol>Mean Squared Error</ol>\n",
    "</ul>\n",
    "\n",
    "- from sklearn.metrics import r2_score(Actual value ,Predicted value)\n",
    "- from sklearn.metrics import mean_absolute_error\n",
    "- from sklearn.metrics import mean_squared_error\n",
    "\n",
    "\n",
    "<h3>Classification</h3>\n",
    "<ul>\n",
    "    <ol>Confussion Metrix</ol>\n",
    "    <ol>False Positive Rate (Type I Error)</ol>\n",
    "    <ol>False Negative Rate (Type II Error)</ol>\n",
    "    <ol>Recal (True Positive Rtae)</ol>\n",
    "    <ol>Precission (True Positive Value)</ol>\n",
    "    <ol>Accurcy</ol>\n",
    "    <ol>Cohen Kappa</ol>\n",
    "    <ol>F1 Measure</ol>\n",
    "    <ol>Recall</ol>\n",
    "    <ol>ROC Curve</ol>\n",
    "    <ol>AUC curve</ol>\n",
    "    <ol>PR Curve</ol>\n",
    "\n",
    "</ul>\n",
    "\n",
    "- from sklearn.metrics import confusion_matrix\n",
    "- from sklearn.metrics import accuracy_score\n",
    "- from sklearn.metrics import classification_report\n",
    "- from sklearn.metrics import roc_auc_score\n",
    "- from sklearn.metrics import log_loss\n",
    "\n",
    "<h3>Clustering(unsupervised learning)</h3>\n",
    "<ul>\n",
    "    <ol>Elbow Method</ol>\n",
    "</ul>\n",
    "\n",
    "<p>Performance Metrix joto beshi hbe Algorithm toto valo kaj kortese  </p>"
   ]
  },
  {
   "cell_type": "markdown",
   "metadata": {},
   "source": [
    "## Should Read This\n",
    "- [Performance Metrics: Confusion matrix, Precision, Recall, and F1 Score](https://towardsdatascience.com/performance-metrics-confusion-matrix-precision-recall-and-f1-score-a8fe076a2262)\n",
    "- [How to Calculate Precision, Recall, and F-Measure for Imbalanced Classification](https://machinelearningmastery.com/precision-recall-and-f-measure-for-imbalanced-classification/)\n",
    "- [Confusion Matrix, Accuracy, Precision, Recall, F1 Score](https://medium.com/analytics-vidhya/confusion-matrix-accuracy-precision-recall-f1-score-ade299cf63cd)\n",
    "- [Metrics to Evaluate your Machine Learning Algorithm](https://towardsdatascience.com/metrics-to-evaluate-your-machine-learning-algorithm-f10ba6e38234)\n",
    "- [Confussion Matix Better understanding | StatQuest](https://www.youtube.com/watch?v=Kdsp6soqA7o) \n",
    "- [Machine Learning - Performance Metrics](https://www.tutorialspoint.com/machine_learning_with_python/machine_learning_algorithms_performance_metrics.htm)"
   ]
  },
  {
   "cell_type": "code",
   "execution_count": null,
   "metadata": {},
   "outputs": [],
   "source": []
  }
 ],
 "metadata": {
  "kernelspec": {
   "display_name": "Python 3",
   "language": "python",
   "name": "python3"
  },
  "language_info": {
   "codemirror_mode": {
    "name": "ipython",
    "version": 3
   },
   "file_extension": ".py",
   "mimetype": "text/x-python",
   "name": "python",
   "nbconvert_exporter": "python",
   "pygments_lexer": "ipython3",
   "version": "3.7.4"
  }
 },
 "nbformat": 4,
 "nbformat_minor": 4
}

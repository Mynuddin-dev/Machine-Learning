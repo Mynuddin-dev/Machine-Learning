{
 "cells": [
  {
   "cell_type": "markdown",
   "metadata": {},
   "source": [
    "### CountVectorizer\n",
    "Convert a collection of text documents to a matrix of token counts\n",
    "- [sklearn.feature_extraction.text.CountVectorizer](https://scikit-learn.org/stable/modules/generated/sklearn.feature_extraction.text.CountVectorizer.html)\n"
   ]
  },
  {
   "cell_type": "code",
   "execution_count": 1,
   "metadata": {},
   "outputs": [],
   "source": [
    "from sklearn.feature_extraction.text import CountVectorizer"
   ]
  },
  {
   "cell_type": "code",
   "execution_count": 2,
   "metadata": {},
   "outputs": [],
   "source": [
    "import numpy as np\n",
    "import matplotlib.pyplot as plt\n",
    "import pandas as pd"
   ]
  },
  {
   "cell_type": "code",
   "execution_count": 3,
   "metadata": {},
   "outputs": [],
   "source": [
    "dataset =[\"Eka thakar  cheye g0vir prem hote pare na na na\",\n",
    "        \"nijer sathe kotha bolar cheye govir prem alap hote pare na\",\n",
    "        \"This process is called feature extraction or vectorization\" ]   "
   ]
  },
  {
   "cell_type": "markdown",
   "metadata": {},
   "source": [
    "- [Using CountVectorizer to Extracting Features from Text | Geeksforgeeeks](https://www.geeksforgeeks.org/using-countvectorizer-to-extracting-features-from-text/)\n",
    "- Every cell contains a number, that represents the count of the word in that particular text.\n",
    "- All words have been converted to lowercase.\n",
    "- The words in columns have been arranged alphabetically."
   ]
  },
  {
   "cell_type": "code",
   "execution_count": 4,
   "metadata": {
    "scrolled": false
   },
   "outputs": [
    {
     "data": {
      "text/plain": [
       "['alap',\n",
       " 'bolar',\n",
       " 'called',\n",
       " 'cheye',\n",
       " 'eka',\n",
       " 'extraction',\n",
       " 'feature',\n",
       " 'g0vir',\n",
       " 'govir',\n",
       " 'hote',\n",
       " 'is',\n",
       " 'kotha',\n",
       " 'na',\n",
       " 'nijer',\n",
       " 'or',\n",
       " 'pare',\n",
       " 'prem',\n",
       " 'process',\n",
       " 'sathe',\n",
       " 'thakar',\n",
       " 'this',\n",
       " 'vectorization']"
      ]
     },
     "execution_count": 4,
     "metadata": {},
     "output_type": "execute_result"
    }
   ],
   "source": [
    "\n",
    "vectorizer = CountVectorizer()\n",
    "X = vectorizer.fit_transform(dataset)\n",
    "vectorizer.get_feature_names()\n",
    "\n",
    "\n",
    "# encode document\n",
    "#vector = vectorizer.transform(text)\n",
    "# summarize encoded vector\n",
    "#print(vector.shape)\n",
    "#print(vector.toarray())"
   ]
  },
  {
   "cell_type": "code",
   "execution_count": 5,
   "metadata": {
    "scrolled": true
   },
   "outputs": [
    {
     "data": {
      "text/plain": [
       "array([[0, 0, 0, 1, 1, 0, 0, 1, 0, 1, 0, 0, 3, 0, 0, 1, 1, 0, 0, 1, 0, 0],\n",
       "       [1, 1, 0, 1, 0, 0, 0, 0, 1, 1, 0, 1, 1, 1, 0, 1, 1, 0, 1, 0, 0, 0],\n",
       "       [0, 0, 1, 0, 0, 1, 1, 0, 0, 0, 1, 0, 0, 0, 1, 0, 0, 1, 0, 0, 1, 1]],\n",
       "      dtype=int64)"
      ]
     },
     "execution_count": 5,
     "metadata": {},
     "output_type": "execute_result"
    }
   ],
   "source": [
    "X.toarray()"
   ]
  },
  {
   "cell_type": "code",
   "execution_count": 6,
   "metadata": {},
   "outputs": [
    {
     "data": {
      "text/plain": [
       "{'eka': 4,\n",
       " 'thakar': 19,\n",
       " 'cheye': 3,\n",
       " 'g0vir': 7,\n",
       " 'prem': 16,\n",
       " 'hote': 9,\n",
       " 'pare': 15,\n",
       " 'na': 12,\n",
       " 'nijer': 13,\n",
       " 'sathe': 18,\n",
       " 'kotha': 11,\n",
       " 'bolar': 1,\n",
       " 'govir': 8,\n",
       " 'alap': 0,\n",
       " 'this': 20,\n",
       " 'process': 17,\n",
       " 'is': 10,\n",
       " 'called': 2,\n",
       " 'feature': 6,\n",
       " 'extraction': 5,\n",
       " 'or': 14,\n",
       " 'vectorization': 21}"
      ]
     },
     "execution_count": 6,
     "metadata": {},
     "output_type": "execute_result"
    }
   ],
   "source": [
    "vectorizer.vocabulary_"
   ]
  },
  {
   "cell_type": "code",
   "execution_count": 7,
   "metadata": {
    "scrolled": true
   },
   "outputs": [
    {
     "name": "stdout",
     "output_type": "stream",
     "text": [
      "(3, 22)\n",
      "[[0 0 0 1 1 0 0 1 0 1 0 0 3 0 0 1 1 0 0 1 0 0]\n",
      " [1 1 0 1 0 0 0 0 1 1 0 1 1 1 0 1 1 0 1 0 0 0]\n",
      " [0 0 1 0 0 1 1 0 0 0 1 0 0 0 1 0 0 1 0 0 1 1]]\n"
     ]
    }
   ],
   "source": [
    "# encode document\n",
    "vector = vectorizer.transform(dataset)\n",
    "#summarize encoded vector\n",
    "print(vector.shape)\n",
    "print(vector.toarray())"
   ]
  },
  {
   "cell_type": "code",
   "execution_count": 8,
   "metadata": {},
   "outputs": [
    {
     "data": {
      "text/html": [
       "<div>\n",
       "<style scoped>\n",
       "    .dataframe tbody tr th:only-of-type {\n",
       "        vertical-align: middle;\n",
       "    }\n",
       "\n",
       "    .dataframe tbody tr th {\n",
       "        vertical-align: top;\n",
       "    }\n",
       "\n",
       "    .dataframe thead th {\n",
       "        text-align: right;\n",
       "    }\n",
       "</style>\n",
       "<table border=\"1\" class=\"dataframe\">\n",
       "  <thead>\n",
       "    <tr style=\"text-align: right;\">\n",
       "      <th></th>\n",
       "      <th>alap</th>\n",
       "      <th>bolar</th>\n",
       "      <th>called</th>\n",
       "      <th>cheye</th>\n",
       "      <th>eka</th>\n",
       "      <th>extraction</th>\n",
       "      <th>feature</th>\n",
       "      <th>g0vir</th>\n",
       "      <th>govir</th>\n",
       "      <th>hote</th>\n",
       "      <th>...</th>\n",
       "      <th>na</th>\n",
       "      <th>nijer</th>\n",
       "      <th>or</th>\n",
       "      <th>pare</th>\n",
       "      <th>prem</th>\n",
       "      <th>process</th>\n",
       "      <th>sathe</th>\n",
       "      <th>thakar</th>\n",
       "      <th>this</th>\n",
       "      <th>vectorization</th>\n",
       "    </tr>\n",
       "  </thead>\n",
       "  <tbody>\n",
       "    <tr>\n",
       "      <th>0</th>\n",
       "      <td>0</td>\n",
       "      <td>0</td>\n",
       "      <td>0</td>\n",
       "      <td>1</td>\n",
       "      <td>1</td>\n",
       "      <td>0</td>\n",
       "      <td>0</td>\n",
       "      <td>1</td>\n",
       "      <td>0</td>\n",
       "      <td>1</td>\n",
       "      <td>...</td>\n",
       "      <td>3</td>\n",
       "      <td>0</td>\n",
       "      <td>0</td>\n",
       "      <td>1</td>\n",
       "      <td>1</td>\n",
       "      <td>0</td>\n",
       "      <td>0</td>\n",
       "      <td>1</td>\n",
       "      <td>0</td>\n",
       "      <td>0</td>\n",
       "    </tr>\n",
       "    <tr>\n",
       "      <th>1</th>\n",
       "      <td>1</td>\n",
       "      <td>1</td>\n",
       "      <td>0</td>\n",
       "      <td>1</td>\n",
       "      <td>0</td>\n",
       "      <td>0</td>\n",
       "      <td>0</td>\n",
       "      <td>0</td>\n",
       "      <td>1</td>\n",
       "      <td>1</td>\n",
       "      <td>...</td>\n",
       "      <td>1</td>\n",
       "      <td>1</td>\n",
       "      <td>0</td>\n",
       "      <td>1</td>\n",
       "      <td>1</td>\n",
       "      <td>0</td>\n",
       "      <td>1</td>\n",
       "      <td>0</td>\n",
       "      <td>0</td>\n",
       "      <td>0</td>\n",
       "    </tr>\n",
       "    <tr>\n",
       "      <th>2</th>\n",
       "      <td>0</td>\n",
       "      <td>0</td>\n",
       "      <td>1</td>\n",
       "      <td>0</td>\n",
       "      <td>0</td>\n",
       "      <td>1</td>\n",
       "      <td>1</td>\n",
       "      <td>0</td>\n",
       "      <td>0</td>\n",
       "      <td>0</td>\n",
       "      <td>...</td>\n",
       "      <td>0</td>\n",
       "      <td>0</td>\n",
       "      <td>1</td>\n",
       "      <td>0</td>\n",
       "      <td>0</td>\n",
       "      <td>1</td>\n",
       "      <td>0</td>\n",
       "      <td>0</td>\n",
       "      <td>1</td>\n",
       "      <td>1</td>\n",
       "    </tr>\n",
       "  </tbody>\n",
       "</table>\n",
       "<p>3 rows × 22 columns</p>\n",
       "</div>"
      ],
      "text/plain": [
       "   alap  bolar  called  cheye  eka  extraction  feature  g0vir  govir  hote  \\\n",
       "0     0      0       0      1    1           0        0      1      0     1   \n",
       "1     1      1       0      1    0           0        0      0      1     1   \n",
       "2     0      0       1      0    0           1        1      0      0     0   \n",
       "\n",
       "   ...  na  nijer  or  pare  prem  process  sathe  thakar  this  vectorization  \n",
       "0  ...   3      0   0     1     1        0      0       1     0              0  \n",
       "1  ...   1      1   0     1     1        0      1       0     0              0  \n",
       "2  ...   0      0   1     0     0        1      0       0     1              1  \n",
       "\n",
       "[3 rows x 22 columns]"
      ]
     },
     "execution_count": 8,
     "metadata": {},
     "output_type": "execute_result"
    }
   ],
   "source": [
    "df = pd.DataFrame(vector.toarray(), columns=vectorizer.get_feature_names())\n",
    "df"
   ]
  },
  {
   "cell_type": "code",
   "execution_count": null,
   "metadata": {},
   "outputs": [],
   "source": []
  }
 ],
 "metadata": {
  "kernelspec": {
   "display_name": "Python 3",
   "language": "python",
   "name": "python3"
  },
  "language_info": {
   "codemirror_mode": {
    "name": "ipython",
    "version": 3
   },
   "file_extension": ".py",
   "mimetype": "text/x-python",
   "name": "python",
   "nbconvert_exporter": "python",
   "pygments_lexer": "ipython3",
   "version": "3.7.4"
  }
 },
 "nbformat": 4,
 "nbformat_minor": 4
}

{
 "cells": [
  {
   "cell_type": "markdown",
   "id": "5b8399a5",
   "metadata": {},
   "source": [
    "### TfidfVectorizer\n",
    "Convert a collection of raw documents to a matrix of TF-IDF features\n",
    "\n",
    "\n",
    "\n",
    "- [Use Sklearn and Manual way](https://towardsdatascience.com/natural-language-processing-feature-engineering-using-tf-idf-e8b9d00e7e76)\n",
    "- [TF-IDF Intuition| Text Preprocessing](https://www.youtube.com/watch?v=D2V1okCEsiE)"
   ]
  },
  {
   "cell_type": "code",
   "execution_count": 1,
   "id": "20266d31",
   "metadata": {},
   "outputs": [],
   "source": [
    "import numpy as np\n",
    "import matplotlib.pyplot as plt\n",
    "import pandas as pd"
   ]
  },
  {
   "cell_type": "code",
   "execution_count": 6,
   "id": "c21e5903",
   "metadata": {},
   "outputs": [],
   "source": [
    "from sklearn.feature_extraction.text import TfidfVectorizer"
   ]
  },
  {
   "cell_type": "markdown",
   "id": "30c9e235",
   "metadata": {},
   "source": [
    "- [sklearn.feature_extraction.text.TfidfVectorizer](https://scikit-learn.org/stable/modules/generated/sklearn.feature_extraction.text.TfidfVectorizer.html)"
   ]
  },
  {
   "cell_type": "markdown",
   "id": "f7912ee8",
   "metadata": {},
   "source": [
    "- TF (Term Frequency) = Number of Repetation of word in a Sentence / Total word in a Sentence    [ Shakil ]\n",
    "- IDF (Inverse Data Frequency (IDF)) = Log * (Total Number Of Sentence / Number of Sentence Contain the unique Words)"
   ]
  },
  {
   "cell_type": "code",
   "execution_count": null,
   "id": "edd7cf3e",
   "metadata": {},
   "outputs": [],
   "source": []
  },
  {
   "cell_type": "code",
   "execution_count": 8,
   "id": "c59fab7f",
   "metadata": {},
   "outputs": [],
   "source": [
    "documentA = 'the man went out for a walk'\n",
    "documentB = 'the children sat around the fire'"
   ]
  },
  {
   "cell_type": "code",
   "execution_count": 9,
   "id": "84f775e5",
   "metadata": {},
   "outputs": [],
   "source": [
    "vectorizer = TfidfVectorizer()"
   ]
  },
  {
   "cell_type": "code",
   "execution_count": 10,
   "id": "4aacc1fe",
   "metadata": {},
   "outputs": [],
   "source": [
    "vectors = vectorizer.fit_transform([documentA, documentB])"
   ]
  },
  {
   "cell_type": "code",
   "execution_count": 17,
   "id": "992fd059",
   "metadata": {},
   "outputs": [
    {
     "data": {
      "text/plain": [
       "['around',\n",
       " 'children',\n",
       " 'fire',\n",
       " 'for',\n",
       " 'man',\n",
       " 'out',\n",
       " 'sat',\n",
       " 'the',\n",
       " 'walk',\n",
       " 'went']"
      ]
     },
     "execution_count": 17,
     "metadata": {},
     "output_type": "execute_result"
    }
   ],
   "source": [
    "feature_names = vectorizer.get_feature_names()\n",
    "feature_names"
   ]
  },
  {
   "cell_type": "code",
   "execution_count": 12,
   "id": "a12b437d",
   "metadata": {},
   "outputs": [],
   "source": [
    "dense = vectors.todense()\n",
    "denselist = dense.tolist()"
   ]
  },
  {
   "cell_type": "code",
   "execution_count": 15,
   "id": "dfdc055f",
   "metadata": {
    "scrolled": true
   },
   "outputs": [
    {
     "data": {
      "text/plain": [
       "matrix([[0.        , 0.        , 0.        , 0.4261596 , 0.4261596 ,\n",
       "         0.4261596 , 0.        , 0.30321606, 0.4261596 , 0.4261596 ],\n",
       "        [0.40740124, 0.40740124, 0.40740124, 0.        , 0.        ,\n",
       "         0.        , 0.40740124, 0.57973867, 0.        , 0.        ]])"
      ]
     },
     "execution_count": 15,
     "metadata": {},
     "output_type": "execute_result"
    }
   ],
   "source": [
    "dense"
   ]
  },
  {
   "cell_type": "code",
   "execution_count": 16,
   "id": "2d9d98ff",
   "metadata": {
    "collapsed": true
   },
   "outputs": [
    {
     "data": {
      "text/plain": [
       "[[0.0,\n",
       "  0.0,\n",
       "  0.0,\n",
       "  0.42615959880289433,\n",
       "  0.42615959880289433,\n",
       "  0.42615959880289433,\n",
       "  0.0,\n",
       "  0.3032160644503863,\n",
       "  0.42615959880289433,\n",
       "  0.42615959880289433],\n",
       " [0.40740123733358447,\n",
       "  0.40740123733358447,\n",
       "  0.40740123733358447,\n",
       "  0.0,\n",
       "  0.0,\n",
       "  0.0,\n",
       "  0.40740123733358447,\n",
       "  0.5797386715376657,\n",
       "  0.0,\n",
       "  0.0]]"
      ]
     },
     "execution_count": 16,
     "metadata": {},
     "output_type": "execute_result"
    }
   ],
   "source": [
    "denselist"
   ]
  },
  {
   "cell_type": "code",
   "execution_count": 13,
   "id": "ff3ad490",
   "metadata": {},
   "outputs": [],
   "source": [
    "df = pd.DataFrame(denselist, columns=feature_names)"
   ]
  },
  {
   "cell_type": "code",
   "execution_count": 14,
   "id": "f118e8b0",
   "metadata": {},
   "outputs": [
    {
     "data": {
      "text/html": [
       "<div>\n",
       "<style scoped>\n",
       "    .dataframe tbody tr th:only-of-type {\n",
       "        vertical-align: middle;\n",
       "    }\n",
       "\n",
       "    .dataframe tbody tr th {\n",
       "        vertical-align: top;\n",
       "    }\n",
       "\n",
       "    .dataframe thead th {\n",
       "        text-align: right;\n",
       "    }\n",
       "</style>\n",
       "<table border=\"1\" class=\"dataframe\">\n",
       "  <thead>\n",
       "    <tr style=\"text-align: right;\">\n",
       "      <th></th>\n",
       "      <th>around</th>\n",
       "      <th>children</th>\n",
       "      <th>fire</th>\n",
       "      <th>for</th>\n",
       "      <th>man</th>\n",
       "      <th>out</th>\n",
       "      <th>sat</th>\n",
       "      <th>the</th>\n",
       "      <th>walk</th>\n",
       "      <th>went</th>\n",
       "    </tr>\n",
       "  </thead>\n",
       "  <tbody>\n",
       "    <tr>\n",
       "      <th>0</th>\n",
       "      <td>0.000000</td>\n",
       "      <td>0.000000</td>\n",
       "      <td>0.000000</td>\n",
       "      <td>0.42616</td>\n",
       "      <td>0.42616</td>\n",
       "      <td>0.42616</td>\n",
       "      <td>0.000000</td>\n",
       "      <td>0.303216</td>\n",
       "      <td>0.42616</td>\n",
       "      <td>0.42616</td>\n",
       "    </tr>\n",
       "    <tr>\n",
       "      <th>1</th>\n",
       "      <td>0.407401</td>\n",
       "      <td>0.407401</td>\n",
       "      <td>0.407401</td>\n",
       "      <td>0.00000</td>\n",
       "      <td>0.00000</td>\n",
       "      <td>0.00000</td>\n",
       "      <td>0.407401</td>\n",
       "      <td>0.579739</td>\n",
       "      <td>0.00000</td>\n",
       "      <td>0.00000</td>\n",
       "    </tr>\n",
       "  </tbody>\n",
       "</table>\n",
       "</div>"
      ],
      "text/plain": [
       "     around  children      fire      for      man      out       sat  \\\n",
       "0  0.000000  0.000000  0.000000  0.42616  0.42616  0.42616  0.000000   \n",
       "1  0.407401  0.407401  0.407401  0.00000  0.00000  0.00000  0.407401   \n",
       "\n",
       "        the     walk     went  \n",
       "0  0.303216  0.42616  0.42616  \n",
       "1  0.579739  0.00000  0.00000  "
      ]
     },
     "execution_count": 14,
     "metadata": {},
     "output_type": "execute_result"
    }
   ],
   "source": [
    "df"
   ]
  },
  {
   "cell_type": "markdown",
   "id": "7726cc45",
   "metadata": {},
   "source": [
    "### We will also do it in Natural Language Processing "
   ]
  },
  {
   "cell_type": "code",
   "execution_count": 20,
   "id": "0cb0769c",
   "metadata": {},
   "outputs": [],
   "source": [
    "# Train Document Set:\n",
    "d1 = 'The sky is blue'\n",
    "d2 = 'The sun is bright'\n",
    "# Test Document Set:\n",
    "d3 = 'The sun in the sky is bright'\n",
    "d4 = 'We can see the shining sun, the bright sun'"
   ]
  },
  {
   "cell_type": "code",
   "execution_count": 21,
   "id": "74c654b4",
   "metadata": {},
   "outputs": [],
   "source": [
    "train = ['The sky is blue.','The sun is bright.']\n",
    "test = ['The sun in the sky is bright', 'We can see the shining sun, the bright sun.']"
   ]
  },
  {
   "cell_type": "code",
   "execution_count": null,
   "id": "7112a1dc",
   "metadata": {},
   "outputs": [],
   "source": []
  },
  {
   "cell_type": "code",
   "execution_count": 23,
   "id": "2b58ac7e",
   "metadata": {},
   "outputs": [],
   "source": [
    "from sklearn.feature_extraction.text import CountVectorizer\n",
    "from sklearn.feature_extraction.text import TfidfVectorizer\n",
    "countvectorizer = CountVectorizer()\n",
    "tfidfvectorizer = TfidfVectorizer()"
   ]
  },
  {
   "cell_type": "code",
   "execution_count": 24,
   "id": "9de9b843",
   "metadata": {},
   "outputs": [],
   "source": [
    "count_wm = countvectorizer.fit_transform(train)\n",
    "tfidf_wm = tfidfvectorizer.fit_transform(train)"
   ]
  },
  {
   "cell_type": "code",
   "execution_count": 25,
   "id": "8a827a50",
   "metadata": {},
   "outputs": [
    {
     "name": "stdout",
     "output_type": "stream",
     "text": [
      "['blue', 'bright', 'is', 'sky', 'sun', 'the']\n",
      "['blue', 'bright', 'is', 'sky', 'sun', 'the']\n"
     ]
    }
   ],
   "source": [
    "count_tokens = countvectorizer.get_feature_names()\n",
    "tfidf_tokens = tfidfvectorizer.get_feature_names()\n",
    "print(count_tokens)\n",
    "print(tfidf_tokens)"
   ]
  },
  {
   "cell_type": "code",
   "execution_count": 26,
   "id": "8fc388bb",
   "metadata": {},
   "outputs": [
    {
     "name": "stdout",
     "output_type": "stream",
     "text": [
      "Count Vectorizer\n",
      "\n",
      "      blue  bright  is  sky  sun  the\n",
      "Doc1     1       0   1    1    0    1\n",
      "Doc2     0       1   1    0    1    1\n",
      "\n",
      "TD-IDF Vectorizer\n",
      "\n",
      "          blue    bright        is       sky       sun       the\n",
      "Doc1  0.576152  0.000000  0.409937  0.576152  0.000000  0.409937\n",
      "Doc2  0.000000  0.576152  0.409937  0.000000  0.576152  0.409937\n"
     ]
    }
   ],
   "source": [
    "df_countvect = pd.DataFrame(data = count_wm.toarray(),index = ['Doc1','Doc2'],columns = count_tokens)\n",
    "df_tfidfvect = pd.DataFrame(data = tfidf_wm.toarray(),index = ['Doc1','Doc2'],columns = tfidf_tokens)\n",
    "print(\"Count Vectorizer\\n\")\n",
    "print(df_countvect)\n",
    "print(\"\\nTD-IDF Vectorizer\\n\")\n",
    "print(df_tfidfvect)"
   ]
  },
  {
   "cell_type": "code",
   "execution_count": null,
   "id": "cda07adf",
   "metadata": {},
   "outputs": [],
   "source": []
  }
 ],
 "metadata": {
  "kernelspec": {
   "display_name": "Python 3",
   "language": "python",
   "name": "python3"
  },
  "language_info": {
   "codemirror_mode": {
    "name": "ipython",
    "version": 3
   },
   "file_extension": ".py",
   "mimetype": "text/x-python",
   "name": "python",
   "nbconvert_exporter": "python",
   "pygments_lexer": "ipython3",
   "version": "3.7.4"
  }
 },
 "nbformat": 4,
 "nbformat_minor": 5
}

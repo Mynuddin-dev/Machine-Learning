{
 "cells": [
  {
   "cell_type": "markdown",
   "metadata": {},
   "source": [
    "### Transformation of Features\n",
    "\n",
    "\n",
    "\n",
    "Why Transformation of Features Are Required?\n",
    "\n",
    "1. Linear Regression---Gradient Descent ----> Global Minima\n",
    "2. Algorithms like KNN,K Means,Hierarichal Clustering---> Eucledian Distance\n",
    "\n",
    "Deep Learning Techniques(Standardization, Scaling)\\\n",
    "1.ANN--->GLobal Minima, Gradient Descent\\\n",
    "2.CNN\\\n",
    "3.RNN\n",
    "- [Data Preparation for ML](https://b-ok.asia/book/5661618/9b954b?id=5661618&secret=9b954b&dsource=recommend)\n",
    "- [Feature Transformation and Scaling Techniques to Boost Your Model Performance | just Read ](https://www.analyticsvidhya.com/blog/2020/07/types-of-feature-transformation-and-scaling/)\n",
    "- [Feature Transformation for Data Scientists](https://towardsdatascience.com/feature-transformation-for-data-scientists-3a9eed562752)\n",
    "\n",
    "##### 1. Smoothing:\n",
    "It is a process that is used to remove noise from the dataset using some algorithms It allows for highlighting important features present in the dataset. It helps in predicting the patterns. When collecting data, it can be manipulated to eliminate or reduce any variance or any other noise form.\n",
    "\n",
    "The concept behind data smoothing is that it will be able to identify simple changes to help predict different trends and patterns. This serves as a help to analysts or traders who need to look at a lot of data which can often be difficult to digest for finding patterns that they wouldn’t see otherwise.\n",
    "\n",
    "##### 2. Aggregation:\n",
    "Data collection or aggregation is the method of storing and presenting data in a summary format. The data may be obtained from multiple data sources to integrate these data sources into a data analysis description. This is a crucial step since the accuracy of data analysis insights is highly dependent on the quantity and quality of the data used. Gathering accurate data of high quality and a large enough quantity is necessary to produce relevant results.\n",
    "\n",
    "The collection of data is useful for everything from decisions concerning financing or business strategy of the product, pricing, operations, and marketing strategies.\n",
    "For example, Sales, data may be aggregated to compute monthly& annual total amounts.\n",
    "\n",
    "##### 3. Discretization:\n",
    "It is a process of transforming continuous data into set of small intervals. Most Data Mining activities in the real world require continuous attributes. Yet many of the existing data mining frameworks are unable to handle these attributes.\n",
    "\n",
    "Also, even if a data mining task can manage a continuous attribute, it can significantly improve its efficiency by replacing a constant quality attribute with its discrete values.\n",
    "\n",
    "For example, (1-10, 11-20) (age:- young, middle age, senior).\n",
    "\n",
    "##### 4. Attribute Construction:\n",
    "Where new attributes are created & applied to assist the mining process from the given set of attributes. This simplifies the original data & makes the mining more efficient.\n",
    "\n",
    "##### 5. Generalization:\n",
    "It converts low-level data attributes to high-level data attributes using concept hierarchy. For Example Age initially in Numerical form (22, 25) is converted into categorical value (young, old).\n",
    "\n",
    "For example, Categorical attributes, such as house addresses, may be generalized to higher-level definitions, such as town or country.\n"
   ]
  },
  {
   "cell_type": "markdown",
   "metadata": {},
   "source": [
    "#### Transformation\n",
    "1. Normalization And Standardization(Feature Scaling)\n",
    "2. Scaling to Minimum And Maximum values\n",
    "3. Scaling To Median And Quantiles\n",
    "4. Guassian Transformation\n",
    "5. Logarithmic Transformation\n",
    "6. Reciprocal Trnasformation\n",
    "7. Square Root Transformation\n",
    "8. Exponential Trnasformation\n",
    "9. Box Cox Transformation"
   ]
  },
  {
   "cell_type": "markdown",
   "metadata": {},
   "source": [
    "#### 1.Standardization(Why standardization?)\n",
    "Standardization comes into picture when features of input data set have large differences between their ranges, or simply when they are measured in different measurement units (e.g., Pounds, Meters, Miles … etc).\n",
    "\n",
    "We try to bring all the variables or features to a similar scale. standarisation means centering the variable at zero.\\\n",
    "\n",
    "\n",
    "#### When should we use Standardization and Normalization?\n",
    "Generally you should normalize (normalization) when the data is normally distributed, and scale (standard\u0002ization) when the data is not normally distributed. In doubt, you should go for standardization. However\n",
    "what is commonly done is that the two scaling methods are tested.\n",
    "\n",
    "\n",
    "  - Z = ( x-x_mean ) / std\n"
   ]
  },
  {
   "cell_type": "code",
   "execution_count": 5,
   "metadata": {},
   "outputs": [],
   "source": [
    "import pandas as pd\n",
    "import seaborn as sns\n",
    "import matplotlib.pyplot as plt\n",
    "import numpy as np\n",
    "%matplotlib inline"
   ]
  },
  {
   "cell_type": "code",
   "execution_count": 45,
   "metadata": {},
   "outputs": [],
   "source": [
    "from sklearn.preprocessing import StandardScaler\n",
    "scaler = StandardScaler()\n",
    "# Check K-NN or Clustering algorithm"
   ]
  },
  {
   "cell_type": "markdown",
   "metadata": {},
   "source": [
    "#### 2.Min Max Scaling (Normalization)\n",
    "Min-max normalization is one of the most common ways to normalize data. For every feature, the minimum value of that feature gets transformed into a 0, the maximum value gets transformed into a 1, and every other value gets transformed into a decimal between 0 and 1.\\\n",
    "\n",
    " - X_scaled = (X - X.min / (X.max - X.min)\n"
   ]
  },
  {
   "cell_type": "code",
   "execution_count": 21,
   "metadata": {},
   "outputs": [],
   "source": [
    "from sklearn.preprocessing import MinMaxScaler\n",
    "scaler = MinMaxScaler()\n",
    "# Check K-NN or Clustering algorithm"
   ]
  },
  {
   "cell_type": "markdown",
   "metadata": {},
   "source": [
    "##### 3.Robust Scaler\n",
    "Robust Scaler are robust to outliers.It is used to scale the feature to median and quantiles\n",
    "Scaling using median and quantiles consists of substracting the median to all the observations, and then dividing by the interquantile difference. The interquantile difference is the difference between the 75th and 25th quantile:\n",
    "\n",
    "IQR = 75th quantile - 25th quantile\n",
    "\n",
    " - X_scaled = (X - X.median) / IQR"
   ]
  },
  {
   "cell_type": "code",
   "execution_count": 22,
   "metadata": {
    "scrolled": true
   },
   "outputs": [],
   "source": [
    "from sklearn.preprocessing import RobustScaler\n",
    "scaler=RobustScaler()"
   ]
  },
  {
   "cell_type": "markdown",
   "metadata": {},
   "source": [
    "#### 4.Guassian Transformation\n",
    "\n",
    "Some machine learning algorithms like linear and logistic assume that the features are normally distributed\n",
    "-Accuracy\n",
    "-Performance\n",
    "- logarithmic transformation\n",
    "- reciprocal transformation\n",
    "- square root transformation\n",
    "- exponential transformation (more general, you can use any exponent)\n",
    "- boxcox transformation\n"
   ]
  },
  {
   "cell_type": "markdown",
   "metadata": {},
   "source": [
    "#### Logarithmic Transformation"
   ]
  },
  {
   "cell_type": "code",
   "execution_count": 23,
   "metadata": {},
   "outputs": [],
   "source": [
    "import pandas as pd\n",
    "df=pd.read_csv('titanic.csv', usecols=['Pclass','Age','Fare','Survived'])\n",
    "df['Age'].fillna(df.Age.median(),inplace=True)"
   ]
  },
  {
   "cell_type": "code",
   "execution_count": 24,
   "metadata": {},
   "outputs": [
    {
     "data": {
      "text/plain": [
       "Pclass      0\n",
       "Age         0\n",
       "Fare        0\n",
       "Survived    0\n",
       "dtype: int64"
      ]
     },
     "execution_count": 24,
     "metadata": {},
     "output_type": "execute_result"
    }
   ],
   "source": [
    "df.isnull().sum()"
   ]
  },
  {
   "cell_type": "code",
   "execution_count": 25,
   "metadata": {},
   "outputs": [
    {
     "data": {
      "text/html": [
       "<div>\n",
       "<style scoped>\n",
       "    .dataframe tbody tr th:only-of-type {\n",
       "        vertical-align: middle;\n",
       "    }\n",
       "\n",
       "    .dataframe tbody tr th {\n",
       "        vertical-align: top;\n",
       "    }\n",
       "\n",
       "    .dataframe thead th {\n",
       "        text-align: right;\n",
       "    }\n",
       "</style>\n",
       "<table border=\"1\" class=\"dataframe\">\n",
       "  <thead>\n",
       "    <tr style=\"text-align: right;\">\n",
       "      <th></th>\n",
       "      <th>Pclass</th>\n",
       "      <th>Age</th>\n",
       "      <th>Fare</th>\n",
       "      <th>Survived</th>\n",
       "      <th>Age_log</th>\n",
       "    </tr>\n",
       "  </thead>\n",
       "  <tbody>\n",
       "    <tr>\n",
       "      <th>0</th>\n",
       "      <td>3</td>\n",
       "      <td>22.0</td>\n",
       "      <td>7.2500</td>\n",
       "      <td>0</td>\n",
       "      <td>3.091042</td>\n",
       "    </tr>\n",
       "    <tr>\n",
       "      <th>1</th>\n",
       "      <td>1</td>\n",
       "      <td>38.0</td>\n",
       "      <td>71.2833</td>\n",
       "      <td>1</td>\n",
       "      <td>3.637586</td>\n",
       "    </tr>\n",
       "    <tr>\n",
       "      <th>2</th>\n",
       "      <td>3</td>\n",
       "      <td>26.0</td>\n",
       "      <td>7.9250</td>\n",
       "      <td>1</td>\n",
       "      <td>3.258097</td>\n",
       "    </tr>\n",
       "    <tr>\n",
       "      <th>3</th>\n",
       "      <td>1</td>\n",
       "      <td>35.0</td>\n",
       "      <td>53.1000</td>\n",
       "      <td>1</td>\n",
       "      <td>3.555348</td>\n",
       "    </tr>\n",
       "    <tr>\n",
       "      <th>4</th>\n",
       "      <td>3</td>\n",
       "      <td>35.0</td>\n",
       "      <td>8.0500</td>\n",
       "      <td>0</td>\n",
       "      <td>3.555348</td>\n",
       "    </tr>\n",
       "    <tr>\n",
       "      <th>...</th>\n",
       "      <td>...</td>\n",
       "      <td>...</td>\n",
       "      <td>...</td>\n",
       "      <td>...</td>\n",
       "      <td>...</td>\n",
       "    </tr>\n",
       "    <tr>\n",
       "      <th>886</th>\n",
       "      <td>2</td>\n",
       "      <td>27.0</td>\n",
       "      <td>13.0000</td>\n",
       "      <td>0</td>\n",
       "      <td>3.295837</td>\n",
       "    </tr>\n",
       "    <tr>\n",
       "      <th>887</th>\n",
       "      <td>1</td>\n",
       "      <td>19.0</td>\n",
       "      <td>30.0000</td>\n",
       "      <td>1</td>\n",
       "      <td>2.944439</td>\n",
       "    </tr>\n",
       "    <tr>\n",
       "      <th>888</th>\n",
       "      <td>3</td>\n",
       "      <td>28.0</td>\n",
       "      <td>23.4500</td>\n",
       "      <td>0</td>\n",
       "      <td>3.332205</td>\n",
       "    </tr>\n",
       "    <tr>\n",
       "      <th>889</th>\n",
       "      <td>1</td>\n",
       "      <td>26.0</td>\n",
       "      <td>30.0000</td>\n",
       "      <td>1</td>\n",
       "      <td>3.258097</td>\n",
       "    </tr>\n",
       "    <tr>\n",
       "      <th>890</th>\n",
       "      <td>3</td>\n",
       "      <td>32.0</td>\n",
       "      <td>7.7500</td>\n",
       "      <td>0</td>\n",
       "      <td>3.465736</td>\n",
       "    </tr>\n",
       "  </tbody>\n",
       "</table>\n",
       "<p>891 rows × 5 columns</p>\n",
       "</div>"
      ],
      "text/plain": [
       "     Pclass   Age     Fare  Survived   Age_log\n",
       "0         3  22.0   7.2500         0  3.091042\n",
       "1         1  38.0  71.2833         1  3.637586\n",
       "2         3  26.0   7.9250         1  3.258097\n",
       "3         1  35.0  53.1000         1  3.555348\n",
       "4         3  35.0   8.0500         0  3.555348\n",
       "..      ...   ...      ...       ...       ...\n",
       "886       2  27.0  13.0000         0  3.295837\n",
       "887       1  19.0  30.0000         1  2.944439\n",
       "888       3  28.0  23.4500         0  3.332205\n",
       "889       1  26.0  30.0000         1  3.258097\n",
       "890       3  32.0   7.7500         0  3.465736\n",
       "\n",
       "[891 rows x 5 columns]"
      ]
     },
     "execution_count": 25,
     "metadata": {},
     "output_type": "execute_result"
    }
   ],
   "source": [
    "import numpy as np\n",
    "df['Age_log']=np.log(df['Age'])\n",
    "df"
   ]
  },
  {
   "cell_type": "code",
   "execution_count": 32,
   "metadata": {},
   "outputs": [],
   "source": [
    "#### If you want to check whether feature is guassian or normal distributed\n",
    "#### Q-Q plot\n",
    "import scipy.stats as stat\n",
    "import pylab \n",
    "def plot_data(df,feature):\n",
    "    plt.figure(figsize=(10,6))\n",
    "    plt.subplot(1,2,1)\n",
    "    df[feature].hist()\n",
    "    plt.subplot(1,2,2)\n",
    "    stat.probplot(df[feature],dist='norm',plot=pylab)\n",
    "    plt.show()\n",
    "    "
   ]
  },
  {
   "cell_type": "code",
   "execution_count": 33,
   "metadata": {
    "scrolled": false
   },
   "outputs": [
    {
     "data": {
      "image/png": "[encoded data removed]",
      "text/plain": [
       "<Figure size 720x432 with 2 Axes>"
      ]
     },
     "metadata": {
      "needs_background": "light"
     },
     "output_type": "display_data"
    }
   ],
   "source": [
    "plot_data(df,'Age')"
   ]
  },
  {
   "cell_type": "code",
   "execution_count": 34,
   "metadata": {},
   "outputs": [
    {
     "data": {
      "image/png": "[encoded data removed]",
      "text/plain": [
       "<Figure size 720x432 with 2 Axes>"
      ]
     },
     "metadata": {
      "needs_background": "light"
     },
     "output_type": "display_data"
    }
   ],
   "source": [
    "plot_data(df,'Age_log')"
   ]
  },
  {
   "cell_type": "markdown",
   "metadata": {},
   "source": [
    "#### Reciprocal Trnasformation"
   ]
  },
  {
   "cell_type": "code",
   "execution_count": 26,
   "metadata": {
    "scrolled": false
   },
   "outputs": [
    {
     "data": {
      "text/html": [
       "<div>\n",
       "<style scoped>\n",
       "    .dataframe tbody tr th:only-of-type {\n",
       "        vertical-align: middle;\n",
       "    }\n",
       "\n",
       "    .dataframe tbody tr th {\n",
       "        vertical-align: top;\n",
       "    }\n",
       "\n",
       "    .dataframe thead th {\n",
       "        text-align: right;\n",
       "    }\n",
       "</style>\n",
       "<table border=\"1\" class=\"dataframe\">\n",
       "  <thead>\n",
       "    <tr style=\"text-align: right;\">\n",
       "      <th></th>\n",
       "      <th>Pclass</th>\n",
       "      <th>Age</th>\n",
       "      <th>Fare</th>\n",
       "      <th>Survived</th>\n",
       "      <th>Age_log</th>\n",
       "      <th>Age_reciprocal</th>\n",
       "    </tr>\n",
       "  </thead>\n",
       "  <tbody>\n",
       "    <tr>\n",
       "      <th>0</th>\n",
       "      <td>3</td>\n",
       "      <td>22.0</td>\n",
       "      <td>7.2500</td>\n",
       "      <td>0</td>\n",
       "      <td>3.091042</td>\n",
       "      <td>0.045455</td>\n",
       "    </tr>\n",
       "    <tr>\n",
       "      <th>1</th>\n",
       "      <td>1</td>\n",
       "      <td>38.0</td>\n",
       "      <td>71.2833</td>\n",
       "      <td>1</td>\n",
       "      <td>3.637586</td>\n",
       "      <td>0.026316</td>\n",
       "    </tr>\n",
       "    <tr>\n",
       "      <th>2</th>\n",
       "      <td>3</td>\n",
       "      <td>26.0</td>\n",
       "      <td>7.9250</td>\n",
       "      <td>1</td>\n",
       "      <td>3.258097</td>\n",
       "      <td>0.038462</td>\n",
       "    </tr>\n",
       "    <tr>\n",
       "      <th>3</th>\n",
       "      <td>1</td>\n",
       "      <td>35.0</td>\n",
       "      <td>53.1000</td>\n",
       "      <td>1</td>\n",
       "      <td>3.555348</td>\n",
       "      <td>0.028571</td>\n",
       "    </tr>\n",
       "    <tr>\n",
       "      <th>4</th>\n",
       "      <td>3</td>\n",
       "      <td>35.0</td>\n",
       "      <td>8.0500</td>\n",
       "      <td>0</td>\n",
       "      <td>3.555348</td>\n",
       "      <td>0.028571</td>\n",
       "    </tr>\n",
       "    <tr>\n",
       "      <th>...</th>\n",
       "      <td>...</td>\n",
       "      <td>...</td>\n",
       "      <td>...</td>\n",
       "      <td>...</td>\n",
       "      <td>...</td>\n",
       "      <td>...</td>\n",
       "    </tr>\n",
       "    <tr>\n",
       "      <th>886</th>\n",
       "      <td>2</td>\n",
       "      <td>27.0</td>\n",
       "      <td>13.0000</td>\n",
       "      <td>0</td>\n",
       "      <td>3.295837</td>\n",
       "      <td>0.037037</td>\n",
       "    </tr>\n",
       "    <tr>\n",
       "      <th>887</th>\n",
       "      <td>1</td>\n",
       "      <td>19.0</td>\n",
       "      <td>30.0000</td>\n",
       "      <td>1</td>\n",
       "      <td>2.944439</td>\n",
       "      <td>0.052632</td>\n",
       "    </tr>\n",
       "    <tr>\n",
       "      <th>888</th>\n",
       "      <td>3</td>\n",
       "      <td>28.0</td>\n",
       "      <td>23.4500</td>\n",
       "      <td>0</td>\n",
       "      <td>3.332205</td>\n",
       "      <td>0.035714</td>\n",
       "    </tr>\n",
       "    <tr>\n",
       "      <th>889</th>\n",
       "      <td>1</td>\n",
       "      <td>26.0</td>\n",
       "      <td>30.0000</td>\n",
       "      <td>1</td>\n",
       "      <td>3.258097</td>\n",
       "      <td>0.038462</td>\n",
       "    </tr>\n",
       "    <tr>\n",
       "      <th>890</th>\n",
       "      <td>3</td>\n",
       "      <td>32.0</td>\n",
       "      <td>7.7500</td>\n",
       "      <td>0</td>\n",
       "      <td>3.465736</td>\n",
       "      <td>0.031250</td>\n",
       "    </tr>\n",
       "  </tbody>\n",
       "</table>\n",
       "<p>891 rows × 6 columns</p>\n",
       "</div>"
      ],
      "text/plain": [
       "     Pclass   Age     Fare  Survived   Age_log  Age_reciprocal\n",
       "0         3  22.0   7.2500         0  3.091042        0.045455\n",
       "1         1  38.0  71.2833         1  3.637586        0.026316\n",
       "2         3  26.0   7.9250         1  3.258097        0.038462\n",
       "3         1  35.0  53.1000         1  3.555348        0.028571\n",
       "4         3  35.0   8.0500         0  3.555348        0.028571\n",
       "..      ...   ...      ...       ...       ...             ...\n",
       "886       2  27.0  13.0000         0  3.295837        0.037037\n",
       "887       1  19.0  30.0000         1  2.944439        0.052632\n",
       "888       3  28.0  23.4500         0  3.332205        0.035714\n",
       "889       1  26.0  30.0000         1  3.258097        0.038462\n",
       "890       3  32.0   7.7500         0  3.465736        0.031250\n",
       "\n",
       "[891 rows x 6 columns]"
      ]
     },
     "execution_count": 26,
     "metadata": {},
     "output_type": "execute_result"
    }
   ],
   "source": [
    "df['Age_reciprocal']=1/df.Age\n",
    "df"
   ]
  },
  {
   "cell_type": "code",
   "execution_count": 35,
   "metadata": {},
   "outputs": [
    {
     "data": {
      "image/png": "[encoded data removed]",
      "text/plain": [
       "<Figure size 720x432 with 2 Axes>"
      ]
     },
     "metadata": {
      "needs_background": "light"
     },
     "output_type": "display_data"
    }
   ],
   "source": [
    "plot_data(df,'Age_reciprocal')"
   ]
  },
  {
   "cell_type": "markdown",
   "metadata": {},
   "source": [
    "#### Square Root Transformation"
   ]
  },
  {
   "cell_type": "code",
   "execution_count": 27,
   "metadata": {},
   "outputs": [
    {
     "data": {
      "text/html": [
       "<div>\n",
       "<style scoped>\n",
       "    .dataframe tbody tr th:only-of-type {\n",
       "        vertical-align: middle;\n",
       "    }\n",
       "\n",
       "    .dataframe tbody tr th {\n",
       "        vertical-align: top;\n",
       "    }\n",
       "\n",
       "    .dataframe thead th {\n",
       "        text-align: right;\n",
       "    }\n",
       "</style>\n",
       "<table border=\"1\" class=\"dataframe\">\n",
       "  <thead>\n",
       "    <tr style=\"text-align: right;\">\n",
       "      <th></th>\n",
       "      <th>Pclass</th>\n",
       "      <th>Age</th>\n",
       "      <th>Fare</th>\n",
       "      <th>Survived</th>\n",
       "      <th>Age_log</th>\n",
       "      <th>Age_reciprocal</th>\n",
       "      <th>Age_sqaure</th>\n",
       "    </tr>\n",
       "  </thead>\n",
       "  <tbody>\n",
       "    <tr>\n",
       "      <th>0</th>\n",
       "      <td>3</td>\n",
       "      <td>22.0</td>\n",
       "      <td>7.2500</td>\n",
       "      <td>0</td>\n",
       "      <td>3.091042</td>\n",
       "      <td>0.045455</td>\n",
       "      <td>4.690416</td>\n",
       "    </tr>\n",
       "    <tr>\n",
       "      <th>1</th>\n",
       "      <td>1</td>\n",
       "      <td>38.0</td>\n",
       "      <td>71.2833</td>\n",
       "      <td>1</td>\n",
       "      <td>3.637586</td>\n",
       "      <td>0.026316</td>\n",
       "      <td>6.164414</td>\n",
       "    </tr>\n",
       "    <tr>\n",
       "      <th>2</th>\n",
       "      <td>3</td>\n",
       "      <td>26.0</td>\n",
       "      <td>7.9250</td>\n",
       "      <td>1</td>\n",
       "      <td>3.258097</td>\n",
       "      <td>0.038462</td>\n",
       "      <td>5.099020</td>\n",
       "    </tr>\n",
       "    <tr>\n",
       "      <th>3</th>\n",
       "      <td>1</td>\n",
       "      <td>35.0</td>\n",
       "      <td>53.1000</td>\n",
       "      <td>1</td>\n",
       "      <td>3.555348</td>\n",
       "      <td>0.028571</td>\n",
       "      <td>5.916080</td>\n",
       "    </tr>\n",
       "    <tr>\n",
       "      <th>4</th>\n",
       "      <td>3</td>\n",
       "      <td>35.0</td>\n",
       "      <td>8.0500</td>\n",
       "      <td>0</td>\n",
       "      <td>3.555348</td>\n",
       "      <td>0.028571</td>\n",
       "      <td>5.916080</td>\n",
       "    </tr>\n",
       "    <tr>\n",
       "      <th>...</th>\n",
       "      <td>...</td>\n",
       "      <td>...</td>\n",
       "      <td>...</td>\n",
       "      <td>...</td>\n",
       "      <td>...</td>\n",
       "      <td>...</td>\n",
       "      <td>...</td>\n",
       "    </tr>\n",
       "    <tr>\n",
       "      <th>886</th>\n",
       "      <td>2</td>\n",
       "      <td>27.0</td>\n",
       "      <td>13.0000</td>\n",
       "      <td>0</td>\n",
       "      <td>3.295837</td>\n",
       "      <td>0.037037</td>\n",
       "      <td>5.196152</td>\n",
       "    </tr>\n",
       "    <tr>\n",
       "      <th>887</th>\n",
       "      <td>1</td>\n",
       "      <td>19.0</td>\n",
       "      <td>30.0000</td>\n",
       "      <td>1</td>\n",
       "      <td>2.944439</td>\n",
       "      <td>0.052632</td>\n",
       "      <td>4.358899</td>\n",
       "    </tr>\n",
       "    <tr>\n",
       "      <th>888</th>\n",
       "      <td>3</td>\n",
       "      <td>28.0</td>\n",
       "      <td>23.4500</td>\n",
       "      <td>0</td>\n",
       "      <td>3.332205</td>\n",
       "      <td>0.035714</td>\n",
       "      <td>5.291503</td>\n",
       "    </tr>\n",
       "    <tr>\n",
       "      <th>889</th>\n",
       "      <td>1</td>\n",
       "      <td>26.0</td>\n",
       "      <td>30.0000</td>\n",
       "      <td>1</td>\n",
       "      <td>3.258097</td>\n",
       "      <td>0.038462</td>\n",
       "      <td>5.099020</td>\n",
       "    </tr>\n",
       "    <tr>\n",
       "      <th>890</th>\n",
       "      <td>3</td>\n",
       "      <td>32.0</td>\n",
       "      <td>7.7500</td>\n",
       "      <td>0</td>\n",
       "      <td>3.465736</td>\n",
       "      <td>0.031250</td>\n",
       "      <td>5.656854</td>\n",
       "    </tr>\n",
       "  </tbody>\n",
       "</table>\n",
       "<p>891 rows × 7 columns</p>\n",
       "</div>"
      ],
      "text/plain": [
       "     Pclass   Age     Fare  Survived   Age_log  Age_reciprocal  Age_sqaure\n",
       "0         3  22.0   7.2500         0  3.091042        0.045455    4.690416\n",
       "1         1  38.0  71.2833         1  3.637586        0.026316    6.164414\n",
       "2         3  26.0   7.9250         1  3.258097        0.038462    5.099020\n",
       "3         1  35.0  53.1000         1  3.555348        0.028571    5.916080\n",
       "4         3  35.0   8.0500         0  3.555348        0.028571    5.916080\n",
       "..      ...   ...      ...       ...       ...             ...         ...\n",
       "886       2  27.0  13.0000         0  3.295837        0.037037    5.196152\n",
       "887       1  19.0  30.0000         1  2.944439        0.052632    4.358899\n",
       "888       3  28.0  23.4500         0  3.332205        0.035714    5.291503\n",
       "889       1  26.0  30.0000         1  3.258097        0.038462    5.099020\n",
       "890       3  32.0   7.7500         0  3.465736        0.031250    5.656854\n",
       "\n",
       "[891 rows x 7 columns]"
      ]
     },
     "execution_count": 27,
     "metadata": {},
     "output_type": "execute_result"
    }
   ],
   "source": [
    "df['Age_sqaure']=df.Age**(1/2)\n",
    "df"
   ]
  },
  {
   "cell_type": "code",
   "execution_count": 36,
   "metadata": {},
   "outputs": [
    {
     "data": {
      "image/png": "[encoded data removed]",
      "text/plain": [
       "<Figure size 720x432 with 2 Axes>"
      ]
     },
     "metadata": {
      "needs_background": "light"
     },
     "output_type": "display_data"
    }
   ],
   "source": [
    "plot_data(df,'Age_sqaure')"
   ]
  },
  {
   "cell_type": "markdown",
   "metadata": {},
   "source": [
    "#### Exponential Transdormation"
   ]
  },
  {
   "cell_type": "code",
   "execution_count": 28,
   "metadata": {
    "scrolled": false
   },
   "outputs": [
    {
     "data": {
      "text/html": [
       "<div>\n",
       "<style scoped>\n",
       "    .dataframe tbody tr th:only-of-type {\n",
       "        vertical-align: middle;\n",
       "    }\n",
       "\n",
       "    .dataframe tbody tr th {\n",
       "        vertical-align: top;\n",
       "    }\n",
       "\n",
       "    .dataframe thead th {\n",
       "        text-align: right;\n",
       "    }\n",
       "</style>\n",
       "<table border=\"1\" class=\"dataframe\">\n",
       "  <thead>\n",
       "    <tr style=\"text-align: right;\">\n",
       "      <th></th>\n",
       "      <th>Pclass</th>\n",
       "      <th>Age</th>\n",
       "      <th>Fare</th>\n",
       "      <th>Survived</th>\n",
       "      <th>Age_log</th>\n",
       "      <th>Age_reciprocal</th>\n",
       "      <th>Age_sqaure</th>\n",
       "      <th>Age_exponential</th>\n",
       "    </tr>\n",
       "  </thead>\n",
       "  <tbody>\n",
       "    <tr>\n",
       "      <th>0</th>\n",
       "      <td>3</td>\n",
       "      <td>22.0</td>\n",
       "      <td>7.2500</td>\n",
       "      <td>0</td>\n",
       "      <td>3.091042</td>\n",
       "      <td>0.045455</td>\n",
       "      <td>4.690416</td>\n",
       "      <td>13.142729</td>\n",
       "    </tr>\n",
       "    <tr>\n",
       "      <th>1</th>\n",
       "      <td>1</td>\n",
       "      <td>38.0</td>\n",
       "      <td>71.2833</td>\n",
       "      <td>1</td>\n",
       "      <td>3.637586</td>\n",
       "      <td>0.026316</td>\n",
       "      <td>6.164414</td>\n",
       "      <td>20.724608</td>\n",
       "    </tr>\n",
       "    <tr>\n",
       "      <th>2</th>\n",
       "      <td>3</td>\n",
       "      <td>26.0</td>\n",
       "      <td>7.9250</td>\n",
       "      <td>1</td>\n",
       "      <td>3.258097</td>\n",
       "      <td>0.038462</td>\n",
       "      <td>5.099020</td>\n",
       "      <td>15.105825</td>\n",
       "    </tr>\n",
       "    <tr>\n",
       "      <th>3</th>\n",
       "      <td>1</td>\n",
       "      <td>35.0</td>\n",
       "      <td>53.1000</td>\n",
       "      <td>1</td>\n",
       "      <td>3.555348</td>\n",
       "      <td>0.028571</td>\n",
       "      <td>5.916080</td>\n",
       "      <td>19.351889</td>\n",
       "    </tr>\n",
       "    <tr>\n",
       "      <th>4</th>\n",
       "      <td>3</td>\n",
       "      <td>35.0</td>\n",
       "      <td>8.0500</td>\n",
       "      <td>0</td>\n",
       "      <td>3.555348</td>\n",
       "      <td>0.028571</td>\n",
       "      <td>5.916080</td>\n",
       "      <td>19.351889</td>\n",
       "    </tr>\n",
       "    <tr>\n",
       "      <th>...</th>\n",
       "      <td>...</td>\n",
       "      <td>...</td>\n",
       "      <td>...</td>\n",
       "      <td>...</td>\n",
       "      <td>...</td>\n",
       "      <td>...</td>\n",
       "      <td>...</td>\n",
       "      <td>...</td>\n",
       "    </tr>\n",
       "    <tr>\n",
       "      <th>886</th>\n",
       "      <td>2</td>\n",
       "      <td>27.0</td>\n",
       "      <td>13.0000</td>\n",
       "      <td>0</td>\n",
       "      <td>3.295837</td>\n",
       "      <td>0.037037</td>\n",
       "      <td>5.196152</td>\n",
       "      <td>15.588457</td>\n",
       "    </tr>\n",
       "    <tr>\n",
       "      <th>887</th>\n",
       "      <td>1</td>\n",
       "      <td>19.0</td>\n",
       "      <td>30.0000</td>\n",
       "      <td>1</td>\n",
       "      <td>2.944439</td>\n",
       "      <td>0.052632</td>\n",
       "      <td>4.358899</td>\n",
       "      <td>11.631293</td>\n",
       "    </tr>\n",
       "    <tr>\n",
       "      <th>888</th>\n",
       "      <td>3</td>\n",
       "      <td>28.0</td>\n",
       "      <td>23.4500</td>\n",
       "      <td>0</td>\n",
       "      <td>3.332205</td>\n",
       "      <td>0.035714</td>\n",
       "      <td>5.291503</td>\n",
       "      <td>16.068119</td>\n",
       "    </tr>\n",
       "    <tr>\n",
       "      <th>889</th>\n",
       "      <td>1</td>\n",
       "      <td>26.0</td>\n",
       "      <td>30.0000</td>\n",
       "      <td>1</td>\n",
       "      <td>3.258097</td>\n",
       "      <td>0.038462</td>\n",
       "      <td>5.099020</td>\n",
       "      <td>15.105825</td>\n",
       "    </tr>\n",
       "    <tr>\n",
       "      <th>890</th>\n",
       "      <td>3</td>\n",
       "      <td>32.0</td>\n",
       "      <td>7.7500</td>\n",
       "      <td>0</td>\n",
       "      <td>3.465736</td>\n",
       "      <td>0.031250</td>\n",
       "      <td>5.656854</td>\n",
       "      <td>17.959393</td>\n",
       "    </tr>\n",
       "  </tbody>\n",
       "</table>\n",
       "<p>891 rows × 8 columns</p>\n",
       "</div>"
      ],
      "text/plain": [
       "     Pclass   Age     Fare  Survived   Age_log  Age_reciprocal  Age_sqaure  \\\n",
       "0         3  22.0   7.2500         0  3.091042        0.045455    4.690416   \n",
       "1         1  38.0  71.2833         1  3.637586        0.026316    6.164414   \n",
       "2         3  26.0   7.9250         1  3.258097        0.038462    5.099020   \n",
       "3         1  35.0  53.1000         1  3.555348        0.028571    5.916080   \n",
       "4         3  35.0   8.0500         0  3.555348        0.028571    5.916080   \n",
       "..      ...   ...      ...       ...       ...             ...         ...   \n",
       "886       2  27.0  13.0000         0  3.295837        0.037037    5.196152   \n",
       "887       1  19.0  30.0000         1  2.944439        0.052632    4.358899   \n",
       "888       3  28.0  23.4500         0  3.332205        0.035714    5.291503   \n",
       "889       1  26.0  30.0000         1  3.258097        0.038462    5.099020   \n",
       "890       3  32.0   7.7500         0  3.465736        0.031250    5.656854   \n",
       "\n",
       "     Age_exponential  \n",
       "0          13.142729  \n",
       "1          20.724608  \n",
       "2          15.105825  \n",
       "3          19.351889  \n",
       "4          19.351889  \n",
       "..               ...  \n",
       "886        15.588457  \n",
       "887        11.631293  \n",
       "888        16.068119  \n",
       "889        15.105825  \n",
       "890        17.959393  \n",
       "\n",
       "[891 rows x 8 columns]"
      ]
     },
     "execution_count": 28,
     "metadata": {},
     "output_type": "execute_result"
    }
   ],
   "source": [
    "\n",
    "df['Age_exponential']=df.Age**(1/1.2)\n",
    "df"
   ]
  },
  {
   "cell_type": "code",
   "execution_count": 37,
   "metadata": {},
   "outputs": [
    {
     "data": {
      "image/png": "[encoded data removed]",
      "text/plain": [
       "<Figure size 720x432 with 2 Axes>"
      ]
     },
     "metadata": {
      "needs_background": "light"
     },
     "output_type": "display_data"
    }
   ],
   "source": [
    "plot_data(df,'Age_exponential')\n",
    "# this is goooooood"
   ]
  },
  {
   "cell_type": "markdown",
   "metadata": {},
   "source": [
    "#### BoxCOx Transformation\n",
    "The Box-Cox transformation is defined as: \n",
    "\n",
    "T(Y)=(Y exp(λ)−1)/λ\n",
    "\n",
    "where Y is the response variable and λ is the transformation parameter. λ varies from -5 to 5. In the transformation, all values of λ  are considered and the optimal value for a given variable is selected."
   ]
  },
  {
   "cell_type": "code",
   "execution_count": 38,
   "metadata": {},
   "outputs": [],
   "source": [
    "df['Age_Boxcox'],parameters=stat.boxcox(df['Age'])"
   ]
  },
  {
   "cell_type": "code",
   "execution_count": 39,
   "metadata": {},
   "outputs": [
    {
     "name": "stdout",
     "output_type": "stream",
     "text": [
      "0.7964531473656952\n"
     ]
    }
   ],
   "source": [
    "print(parameters)"
   ]
  },
  {
   "cell_type": "code",
   "execution_count": 40,
   "metadata": {},
   "outputs": [
    {
     "data": {
      "image/png": "[encoded data removed]",
      "text/plain": [
       "<Figure size 720x432 with 2 Axes>"
      ]
     },
     "metadata": {
      "needs_background": "light"
     },
     "output_type": "display_data"
    }
   ],
   "source": [
    "plot_data(df,'Age_Boxcox')"
   ]
  },
  {
   "cell_type": "code",
   "execution_count": 41,
   "metadata": {},
   "outputs": [
    {
     "data": {
      "image/png": "[encoded data removed]",
      "text/plain": [
       "<Figure size 720x432 with 2 Axes>"
      ]
     },
     "metadata": {
      "needs_background": "light"
     },
     "output_type": "display_data"
    }
   ],
   "source": [
    "plot_data(df,'Fare')"
   ]
  },
  {
   "cell_type": "code",
   "execution_count": 42,
   "metadata": {},
   "outputs": [
    {
     "data": {
      "image/png": "[encoded data removed]",
      "text/plain": [
       "<Figure size 720x432 with 2 Axes>"
      ]
     },
     "metadata": {
      "needs_background": "light"
     },
     "output_type": "display_data"
    }
   ],
   "source": [
    "#### Fare\n",
    "df['Fare_log']=np.log1p(df['Fare'])\n",
    "plot_data(df,'Fare_log')"
   ]
  },
  {
   "cell_type": "code",
   "execution_count": 43,
   "metadata": {},
   "outputs": [
    {
     "data": {
      "image/png": "[encoded data removed]",
      "text/plain": [
       "<Figure size 720x432 with 2 Axes>"
      ]
     },
     "metadata": {
      "needs_background": "light"
     },
     "output_type": "display_data"
    }
   ],
   "source": [
    "df['Fare_Boxcox'],parameters=stat.boxcox(df['Fare']+1)\n",
    "plot_data(df,'Fare_Boxcox')"
   ]
  },
  {
   "cell_type": "code",
   "execution_count": null,
   "metadata": {},
   "outputs": [],
   "source": []
  },
  {
   "cell_type": "code",
   "execution_count": 44,
   "metadata": {},
   "outputs": [
    {
     "data": {
      "text/html": [
       "<div>\n",
       "<style scoped>\n",
       "    .dataframe tbody tr th:only-of-type {\n",
       "        vertical-align: middle;\n",
       "    }\n",
       "\n",
       "    .dataframe tbody tr th {\n",
       "        vertical-align: top;\n",
       "    }\n",
       "\n",
       "    .dataframe thead th {\n",
       "        text-align: right;\n",
       "    }\n",
       "</style>\n",
       "<table border=\"1\" class=\"dataframe\">\n",
       "  <thead>\n",
       "    <tr style=\"text-align: right;\">\n",
       "      <th></th>\n",
       "      <th>Pclass</th>\n",
       "      <th>Age</th>\n",
       "      <th>Fare</th>\n",
       "      <th>Survived</th>\n",
       "      <th>Age_log</th>\n",
       "      <th>Age_reciprocal</th>\n",
       "      <th>Age_sqaure</th>\n",
       "      <th>Age_exponential</th>\n",
       "      <th>Age_Boxcox</th>\n",
       "      <th>Fare_log</th>\n",
       "      <th>Fare_Boxcox</th>\n",
       "    </tr>\n",
       "  </thead>\n",
       "  <tbody>\n",
       "    <tr>\n",
       "      <th>0</th>\n",
       "      <td>3</td>\n",
       "      <td>22.0</td>\n",
       "      <td>7.2500</td>\n",
       "      <td>0</td>\n",
       "      <td>3.091042</td>\n",
       "      <td>0.045455</td>\n",
       "      <td>4.690416</td>\n",
       "      <td>13.142729</td>\n",
       "      <td>13.468119</td>\n",
       "      <td>2.110213</td>\n",
       "      <td>1.906724</td>\n",
       "    </tr>\n",
       "    <tr>\n",
       "      <th>1</th>\n",
       "      <td>1</td>\n",
       "      <td>38.0</td>\n",
       "      <td>71.2833</td>\n",
       "      <td>1</td>\n",
       "      <td>3.637586</td>\n",
       "      <td>0.026316</td>\n",
       "      <td>6.164414</td>\n",
       "      <td>20.724608</td>\n",
       "      <td>21.498728</td>\n",
       "      <td>4.280593</td>\n",
       "      <td>3.497640</td>\n",
       "    </tr>\n",
       "    <tr>\n",
       "      <th>2</th>\n",
       "      <td>3</td>\n",
       "      <td>26.0</td>\n",
       "      <td>7.9250</td>\n",
       "      <td>1</td>\n",
       "      <td>3.258097</td>\n",
       "      <td>0.038462</td>\n",
       "      <td>5.099020</td>\n",
       "      <td>15.105825</td>\n",
       "      <td>15.563417</td>\n",
       "      <td>2.188856</td>\n",
       "      <td>1.970459</td>\n",
       "    </tr>\n",
       "    <tr>\n",
       "      <th>3</th>\n",
       "      <td>1</td>\n",
       "      <td>35.0</td>\n",
       "      <td>53.1000</td>\n",
       "      <td>1</td>\n",
       "      <td>3.555348</td>\n",
       "      <td>0.028571</td>\n",
       "      <td>5.916080</td>\n",
       "      <td>19.351889</td>\n",
       "      <td>20.056110</td>\n",
       "      <td>3.990834</td>\n",
       "      <td>3.304258</td>\n",
       "    </tr>\n",
       "    <tr>\n",
       "      <th>4</th>\n",
       "      <td>3</td>\n",
       "      <td>35.0</td>\n",
       "      <td>8.0500</td>\n",
       "      <td>0</td>\n",
       "      <td>3.555348</td>\n",
       "      <td>0.028571</td>\n",
       "      <td>5.916080</td>\n",
       "      <td>19.351889</td>\n",
       "      <td>20.056110</td>\n",
       "      <td>2.202765</td>\n",
       "      <td>1.981680</td>\n",
       "    </tr>\n",
       "    <tr>\n",
       "      <th>...</th>\n",
       "      <td>...</td>\n",
       "      <td>...</td>\n",
       "      <td>...</td>\n",
       "      <td>...</td>\n",
       "      <td>...</td>\n",
       "      <td>...</td>\n",
       "      <td>...</td>\n",
       "      <td>...</td>\n",
       "      <td>...</td>\n",
       "      <td>...</td>\n",
       "      <td>...</td>\n",
       "    </tr>\n",
       "    <tr>\n",
       "      <th>886</th>\n",
       "      <td>2</td>\n",
       "      <td>27.0</td>\n",
       "      <td>13.0000</td>\n",
       "      <td>0</td>\n",
       "      <td>3.295837</td>\n",
       "      <td>0.037037</td>\n",
       "      <td>5.196152</td>\n",
       "      <td>15.588457</td>\n",
       "      <td>16.076643</td>\n",
       "      <td>2.639057</td>\n",
       "      <td>2.326029</td>\n",
       "    </tr>\n",
       "    <tr>\n",
       "      <th>887</th>\n",
       "      <td>1</td>\n",
       "      <td>19.0</td>\n",
       "      <td>30.0000</td>\n",
       "      <td>1</td>\n",
       "      <td>2.944439</td>\n",
       "      <td>0.052632</td>\n",
       "      <td>4.358899</td>\n",
       "      <td>11.631293</td>\n",
       "      <td>11.845513</td>\n",
       "      <td>3.433987</td>\n",
       "      <td>2.916885</td>\n",
       "    </tr>\n",
       "    <tr>\n",
       "      <th>888</th>\n",
       "      <td>3</td>\n",
       "      <td>28.0</td>\n",
       "      <td>23.4500</td>\n",
       "      <td>0</td>\n",
       "      <td>3.332205</td>\n",
       "      <td>0.035714</td>\n",
       "      <td>5.291503</td>\n",
       "      <td>16.068119</td>\n",
       "      <td>16.586014</td>\n",
       "      <td>3.196630</td>\n",
       "      <td>2.745246</td>\n",
       "    </tr>\n",
       "    <tr>\n",
       "      <th>889</th>\n",
       "      <td>1</td>\n",
       "      <td>26.0</td>\n",
       "      <td>30.0000</td>\n",
       "      <td>1</td>\n",
       "      <td>3.258097</td>\n",
       "      <td>0.038462</td>\n",
       "      <td>5.099020</td>\n",
       "      <td>15.105825</td>\n",
       "      <td>15.563417</td>\n",
       "      <td>3.433987</td>\n",
       "      <td>2.916885</td>\n",
       "    </tr>\n",
       "    <tr>\n",
       "      <th>890</th>\n",
       "      <td>3</td>\n",
       "      <td>32.0</td>\n",
       "      <td>7.7500</td>\n",
       "      <td>0</td>\n",
       "      <td>3.465736</td>\n",
       "      <td>0.031250</td>\n",
       "      <td>5.656854</td>\n",
       "      <td>17.959393</td>\n",
       "      <td>18.588067</td>\n",
       "      <td>2.169054</td>\n",
       "      <td>1.954457</td>\n",
       "    </tr>\n",
       "  </tbody>\n",
       "</table>\n",
       "<p>891 rows × 11 columns</p>\n",
       "</div>"
      ],
      "text/plain": [
       "     Pclass   Age     Fare  Survived   Age_log  Age_reciprocal  Age_sqaure  \\\n",
       "0         3  22.0   7.2500         0  3.091042        0.045455    4.690416   \n",
       "1         1  38.0  71.2833         1  3.637586        0.026316    6.164414   \n",
       "2         3  26.0   7.9250         1  3.258097        0.038462    5.099020   \n",
       "3         1  35.0  53.1000         1  3.555348        0.028571    5.916080   \n",
       "4         3  35.0   8.0500         0  3.555348        0.028571    5.916080   \n",
       "..      ...   ...      ...       ...       ...             ...         ...   \n",
       "886       2  27.0  13.0000         0  3.295837        0.037037    5.196152   \n",
       "887       1  19.0  30.0000         1  2.944439        0.052632    4.358899   \n",
       "888       3  28.0  23.4500         0  3.332205        0.035714    5.291503   \n",
       "889       1  26.0  30.0000         1  3.258097        0.038462    5.099020   \n",
       "890       3  32.0   7.7500         0  3.465736        0.031250    5.656854   \n",
       "\n",
       "     Age_exponential  Age_Boxcox  Fare_log  Fare_Boxcox  \n",
       "0          13.142729   13.468119  2.110213     1.906724  \n",
       "1          20.724608   21.498728  4.280593     3.497640  \n",
       "2          15.105825   15.563417  2.188856     1.970459  \n",
       "3          19.351889   20.056110  3.990834     3.304258  \n",
       "4          19.351889   20.056110  2.202765     1.981680  \n",
       "..               ...         ...       ...          ...  \n",
       "886        15.588457   16.076643  2.639057     2.326029  \n",
       "887        11.631293   11.845513  3.433987     2.916885  \n",
       "888        16.068119   16.586014  3.196630     2.745246  \n",
       "889        15.105825   15.563417  3.433987     2.916885  \n",
       "890        17.959393   18.588067  2.169054     1.954457  \n",
       "\n",
       "[891 rows x 11 columns]"
      ]
     },
     "execution_count": 44,
     "metadata": {},
     "output_type": "execute_result"
    }
   ],
   "source": [
    "df"
   ]
  },
  {
   "cell_type": "code",
   "execution_count": null,
   "metadata": {},
   "outputs": [],
   "source": []
  }
 ],
 "metadata": {
  "kernelspec": {
   "display_name": "Python 3",
   "language": "python",
   "name": "python3"
  },
  "language_info": {
   "codemirror_mode": {
    "name": "ipython",
    "version": 3
   },
   "file_extension": ".py",
   "mimetype": "text/x-python",
   "name": "python",
   "nbconvert_exporter": "python",
   "pygments_lexer": "ipython3",
   "version": "3.7.4"
  }
 },
 "nbformat": 4,
 "nbformat_minor": 4
}
